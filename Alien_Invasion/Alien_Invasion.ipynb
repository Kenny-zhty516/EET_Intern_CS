{
 "cells": [
  {
   "cell_type": "markdown",
   "metadata": {},
   "source": [
    "# Set Up"
   ]
  },
  {
   "cell_type": "code",
   "execution_count": 1,
   "metadata": {},
   "outputs": [
    {
     "name": "stdout",
     "output_type": "stream",
     "text": [
      "pygame 2.1.2 (SDL 2.0.18, Python 3.10.4)\n",
      "Hello from the pygame community. https://www.pygame.org/contribute.html\n"
     ]
    }
   ],
   "source": [
    "# !pip install pygame\n",
    "# !pip install --upgrade pip\n",
    "import pygame\n",
    "import sys\n",
    "from settings import Settings\n",
    "from ship import Ship\n",
    "import game_functions as gf"
   ]
  },
  {
   "cell_type": "code",
   "execution_count": 2,
   "metadata": {},
   "outputs": [
    {
     "ename": "AttributeError",
     "evalue": "'Ship' object has no attribute 'image'",
     "output_type": "error",
     "traceback": [
      "\u001b[1;31m---------------------------------------------------------------------------\u001b[0m",
      "\u001b[1;31mAttributeError\u001b[0m                            Traceback (most recent call last)",
      "\u001b[1;32mc:\\Users\\tzhan\\Desktop\\Intern CS Course\\Project1_Alien_Invasion\\Alien_Invasion.ipynb Cell 3'\u001b[0m in \u001b[0;36m<cell line: 31>\u001b[1;34m()\u001b[0m\n\u001b[0;32m     <a href='vscode-notebook-cell:/c%3A/Users/tzhan/Desktop/Intern%20CS%20Course/Project1_Alien_Invasion/Alien_Invasion.ipynb#ch0000002?line=27'>28</a>\u001b[0m     \u001b[39m# Make the most recently drawn screen visible.\u001b[39;00m\n\u001b[0;32m     <a href='vscode-notebook-cell:/c%3A/Users/tzhan/Desktop/Intern%20CS%20Course/Project1_Alien_Invasion/Alien_Invasion.ipynb#ch0000002?line=28'>29</a>\u001b[0m         pygame\u001b[39m.\u001b[39mdisplay\u001b[39m.\u001b[39mflip()\n\u001b[1;32m---> <a href='vscode-notebook-cell:/c%3A/Users/tzhan/Desktop/Intern%20CS%20Course/Project1_Alien_Invasion/Alien_Invasion.ipynb#ch0000002?line=30'>31</a>\u001b[0m run_game()\n",
      "\u001b[1;32mc:\\Users\\tzhan\\Desktop\\Intern CS Course\\Project1_Alien_Invasion\\Alien_Invasion.ipynb Cell 3'\u001b[0m in \u001b[0;36mrun_game\u001b[1;34m()\u001b[0m\n\u001b[0;32m      <a href='vscode-notebook-cell:/c%3A/Users/tzhan/Desktop/Intern%20CS%20Course/Project1_Alien_Invasion/Alien_Invasion.ipynb#ch0000002?line=6'>7</a>\u001b[0m     pygame\u001b[39m.\u001b[39mdisplay\u001b[39m.\u001b[39mset_caption(\u001b[39m\"\u001b[39m\u001b[39mAlien Invasion\u001b[39m\u001b[39m\"\u001b[39m)\n\u001b[0;32m      <a href='vscode-notebook-cell:/c%3A/Users/tzhan/Desktop/Intern%20CS%20Course/Project1_Alien_Invasion/Alien_Invasion.ipynb#ch0000002?line=8'>9</a>\u001b[0m \u001b[39m# Make a ship.\u001b[39;00m\n\u001b[1;32m---> <a href='vscode-notebook-cell:/c%3A/Users/tzhan/Desktop/Intern%20CS%20Course/Project1_Alien_Invasion/Alien_Invasion.ipynb#ch0000002?line=9'>10</a>\u001b[0m     ship \u001b[39m=\u001b[39m Ship(ai_settings, screen)\n\u001b[0;32m     <a href='vscode-notebook-cell:/c%3A/Users/tzhan/Desktop/Intern%20CS%20Course/Project1_Alien_Invasion/Alien_Invasion.ipynb#ch0000002?line=11'>12</a>\u001b[0m \u001b[39m# Start the main loop for the game.\u001b[39;00m\n\u001b[0;32m     <a href='vscode-notebook-cell:/c%3A/Users/tzhan/Desktop/Intern%20CS%20Course/Project1_Alien_Invasion/Alien_Invasion.ipynb#ch0000002?line=12'>13</a>\u001b[0m     \u001b[39mwhile\u001b[39;00m \u001b[39mTrue\u001b[39;00m:\n",
      "File \u001b[1;32mc:\\Users\\tzhan\\Desktop\\Intern CS Course\\Project1_Alien_Invasion\\ship.py:12\u001b[0m, in \u001b[0;36mShip.__init__\u001b[1;34m(self, ai_settings, screen)\u001b[0m\n\u001b[0;32m      7\u001b[0m \u001b[39mself\u001b[39m\u001b[39m.\u001b[39mai_settings \u001b[39m=\u001b[39m ai_settings\n\u001b[0;32m      9\u001b[0m \u001b[39m# Load the ship image and get its rect.\u001b[39;00m\n\u001b[1;32m---> 12\u001b[0m \u001b[39mself\u001b[39m\u001b[39m.\u001b[39mrect \u001b[39m=\u001b[39m \u001b[39mself\u001b[39;49m\u001b[39m.\u001b[39;49mimage\u001b[39m.\u001b[39mget_rect()\n\u001b[0;32m     13\u001b[0m \u001b[39mself\u001b[39m\u001b[39m.\u001b[39mscreen_rect \u001b[39m=\u001b[39m screen\u001b[39m.\u001b[39mget_rect()\n\u001b[0;32m     15\u001b[0m \u001b[39m# Start each new ship at the bottom center of the screen.\u001b[39;00m\n",
      "\u001b[1;31mAttributeError\u001b[0m: 'Ship' object has no attribute 'image'"
     ]
    },
    {
     "ename": "",
     "evalue": "",
     "output_type": "error",
     "traceback": [
      "\u001b[1;31mThe Kernel crashed while executing code in the the current cell or a previous cell. Please review the code in the cell(s) to identify a possible cause of the failure. Click <a href='https://aka.ms/vscodeJupyterKernelCrash'>here</a> for more info. View Jupyter <a href='command:jupyter.viewOutput'>log</a> for further details."
     ]
    }
   ],
   "source": [
    "def run_game():\n",
    " # Initialize game and create a screen object.\n",
    "    pygame.init()\n",
    "    ai_settings = Settings()\n",
    "    screen =  pygame.display.set_mode((ai_settings.screen_width, \n",
    "                                       ai_settings.screen_height))\n",
    "    pygame.display.set_caption(\"Alien Invasion\")\n",
    "\n",
    "# Make a ship.\n",
    "    ship = Ship(ai_settings, screen)\n",
    "    \n",
    "# Start the main loop for the game.\n",
    "    while True:\n",
    "        \n",
    "        gf.check_events(ship)\n",
    "        ship.update()\n",
    "        gf.update_screen(ai_settings, screen, ship)\n",
    "\n",
    "    # Watch for keyboard and mouse events.\n",
    "        for event in pygame.event.get():\n",
    "            if event.type == pygame.QUIT:\n",
    "                sys.exit()\n",
    "    \n",
    "    # Redraw the screen during each pass through the loop.\n",
    "        screen.fill(ai_settings.bg_color)\n",
    "        ship.blitme()\n",
    "                \n",
    "    # Make the most recently drawn screen visible.\n",
    "        pygame.display.flip()\n",
    "                \n",
    "run_game()"
   ]
  },
  {
   "cell_type": "code",
   "execution_count": null,
   "metadata": {},
   "outputs": [
    {
     "name": "stdout",
     "output_type": "stream",
     "text": [
      "hi\n"
     ]
    }
   ],
   "source": []
  }
 ],
 "metadata": {
  "kernelspec": {
   "display_name": "Python 3.10.4 64-bit",
   "language": "python",
   "name": "python3"
  },
  "language_info": {
   "codemirror_mode": {
    "name": "ipython",
    "version": 3
   },
   "file_extension": ".py",
   "mimetype": "text/x-python",
   "name": "python",
   "nbconvert_exporter": "python",
   "pygments_lexer": "ipython3",
   "version": "3.10.4"
  },
  "orig_nbformat": 4,
  "vscode": {
   "interpreter": {
    "hash": "3beec1c7eb7ee4ff7b272a4628f011081769ec86229a42efad014d4c8f0a0ee9"
   }
  }
 },
 "nbformat": 4,
 "nbformat_minor": 2
}
